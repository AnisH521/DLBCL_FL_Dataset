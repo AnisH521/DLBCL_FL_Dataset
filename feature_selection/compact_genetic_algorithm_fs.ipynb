{
  "nbformat": 4,
  "nbformat_minor": 0,
  "metadata": {
    "colab": {
      "provenance": []
    },
    "kernelspec": {
      "name": "python3",
      "display_name": "Python 3"
    },
    "language_info": {
      "name": "python"
    }
  },
  "cells": [
    {
      "cell_type": "markdown",
      "source": [
        "# imported necessary libraries"
      ],
      "metadata": {
        "id": "TI9MDwZr8EJI"
      }
    },
    {
      "cell_type": "code",
      "execution_count": null,
      "metadata": {
        "id": "Es-qh-3WV5Sr"
      },
      "outputs": [],
      "source": [
        "import numpy as np\n",
        "import pandas as pd\n",
        "from random import randint\n",
        "import random\n",
        "from typing import List, Tuple\n",
        "\n",
        "from sklearn.naive_bayes import GaussianNB\n",
        "from sklearn import svm\n",
        "from sklearn.linear_model import LogisticRegression\n",
        "from sklearn.ensemble import RandomForestClassifier\n",
        "from sklearn.tree import DecisionTreeClassifier\n",
        "from sklearn.neighbors import KNeighborsClassifier\n",
        "\n",
        "from sklearn.model_selection import train_test_split\n",
        "\n",
        "from sklearn.metrics import accuracy_score"
      ]
    },
    {
      "cell_type": "markdown",
      "source": [
        "# Breast Cancer Dataset\n",
        "\n",
        "\n",
        "\n",
        "---\n",
        "\n",
        "\n",
        "*   read and splitted the dataset from pandas dataframe\n",
        "*   took list of classifiers for performance analysis\n",
        "*   size of dataset after splitting is shown\n",
        "\n",
        "\n",
        "---\n",
        "\n",
        "\n"
      ],
      "metadata": {
        "id": "lQmDwEuA8HlC"
      }
    },
    {
      "cell_type": "code",
      "source": [
        "df = pd.read_csv(\"/content/drive/MyDrive/test_data/data.csv\")\n",
        "y = df[\"diagnosis\"]\n",
        "y = np.where(y == 'M',1,0)\n",
        "df.drop([\"id\", \"diagnosis\", \"Unnamed: 32\"], axis = 1, inplace = True)\n",
        "\n",
        "classifiers = ['LinearSVM', 'RadialSVM', \n",
        "                'Logistic',  'RandomForest',\n",
        "                'NaiveBayes', 'DecisionTree',\n",
        "                'knn']\n",
        "    \n",
        "models_list = [svm.SVC(kernel='linear'),\n",
        "               svm.SVC(kernel='rbf'),\n",
        "               LogisticRegression(max_iter = 4000),\n",
        "               RandomForestClassifier(n_estimators = 200, random_state = 0),\n",
        "               GaussianNB(),\n",
        "               DecisionTreeClassifier(random_state = 0),\n",
        "               KNeighborsClassifier()]\n",
        "\n",
        "X_train, X_test, y_train, y_test = train_test_split(df, y, test_size = 0.20, random_state = 42)\n",
        "\n",
        "print(f'Total X_train data : {X_train.shape}\\n')\n",
        "print(f'Total X_test data : {X_test.shape}\\n')\n",
        "print(f'Total y_train data : {y_train.shape}\\n')\n",
        "print(f'Total y_test data : {y_test.shape}')"
      ],
      "metadata": {
        "colab": {
          "base_uri": "https://localhost:8080/"
        },
        "id": "d8qF7D51WNTc",
        "outputId": "ac436cfa-6c64-4578-deb9-ae2e00fd4d28"
      },
      "execution_count": null,
      "outputs": [
        {
          "output_type": "stream",
          "name": "stdout",
          "text": [
            "Total X_train data : (455, 30)\n",
            "\n",
            "Total X_test data : (114, 30)\n",
            "\n",
            "Total y_train data : (455,)\n",
            "\n",
            "Total y_test data : (114,)\n"
          ]
        }
      ]
    },
    {
      "cell_type": "markdown",
      "source": [
        "# Probabilty Vector Function\n",
        "\n",
        "---\n",
        "\n",
        "\n",
        "*   creates an empty array of size equivalent to number of features\n",
        "*   fills the array cells initially by 0.5\n",
        "\n",
        "\n",
        "\n",
        "\n",
        "---\n",
        "\n"
      ],
      "metadata": {
        "id": "7--6XdIh8PB4"
      }
    },
    {
      "cell_type": "code",
      "source": [
        "def probability_vector(no_of_features):\n",
        "\n",
        "    prob = np.empty(no_of_features) \n",
        "    prob.fill(0.5)\n",
        "    \n",
        "    return list(prob)"
      ],
      "metadata": {
        "id": "Ruq1Le0QYThH"
      },
      "execution_count": null,
      "outputs": []
    },
    {
      "cell_type": "markdown",
      "source": [
        "# Initial population function\n",
        "\n",
        "\n",
        "\n",
        "---\n",
        "\n",
        "\n",
        "*   size parameter indicate size of population.\n",
        "*   no_of_features indicate number of features present in dataset.\n",
        "*   almost 20% of features are seleced as false randomly whereas remaining 80% remained true.\n",
        "*   returns a list of boolean population of desired size.\n",
        "\n",
        "\n",
        "\n",
        "---"
      ],
      "metadata": {
        "id": "5xpQijAt9Oy4"
      }
    },
    {
      "cell_type": "code",
      "source": [
        "def initial_population(size: int, no_of_features: int) -> list:\n",
        "\n",
        "    population = list()\n",
        "    array_index = int(no_of_features*0.3)\n",
        "\n",
        "    for i in range(size):\n",
        "        chromosome = np.ones(no_of_features, dtype = bool)     \n",
        "        chromosome[:array_index] = False\n",
        "        np.random.shuffle(chromosome)\n",
        "        population.append(chromosome)\n",
        "\n",
        "    return population"
      ],
      "metadata": {
        "id": "bX93KkAiWTwq"
      },
      "execution_count": null,
      "outputs": []
    },
    {
      "cell_type": "markdown",
      "source": [
        "# Fitness Function\n",
        "\n",
        "\n",
        "\n",
        "---\n",
        "\n",
        "\n",
        "*   calculates fitness of an individual of a population by accuracy_score\n",
        "*   best fitted individual declared as winner while the least as loser\n",
        "\n",
        "\n",
        "---\n",
        "\n",
        "\n"
      ],
      "metadata": {
        "id": "mZT_hQUs9Zte"
      }
    },
    {
      "cell_type": "code",
      "source": [
        "def fitness_function(population: list, model: any) -> Tuple[list, list]:\n",
        "\n",
        "    scores_list = list()\n",
        "    fitted_population = list()\n",
        "\n",
        "    for chromosome in population:\n",
        "        model.fit(X_train.iloc[:, chromosome], y_train)\n",
        "        predicted = model.predict(X_test.iloc[:, chromosome])\n",
        "        scores_list.append(accuracy_score(y_test, predicted))\n",
        "\n",
        "    if scores_list[0] > scores_list[1]:\n",
        "        winner = population[0]\n",
        "        loser = population[1]\n",
        "    else:\n",
        "        winner = population[1] \n",
        "        loser = population[0]\n",
        "\n",
        "    return winner, loser"
      ],
      "metadata": {
        "id": "Egk3Z2KuZTpw"
      },
      "execution_count": null,
      "outputs": []
    },
    {
      "cell_type": "markdown",
      "source": [
        "# Functin to update probability vector"
      ],
      "metadata": {
        "id": "h21FNgzx-GrB"
      }
    },
    {
      "cell_type": "code",
      "source": [
        "def probability_vector_updater(winner, loser, prob, no_of_features, Total_population):\n",
        "\n",
        "    updated_prob = list()\n",
        "\n",
        "    for i in range(no_of_features):\n",
        "        if(winner[i] != loser[i]):\n",
        "            if winner[i] == True:\n",
        "                if prob[i] >= 1:\n",
        "                    pass\n",
        "                else:\n",
        "                    prob[i] = prob[i] + 1/Total_population\n",
        "            else:\n",
        "                if prob[i] <= 0:\n",
        "                    pass\n",
        "                else:\n",
        "                    prob[i] = prob[i] - 1/Total_population\n",
        "        updated_prob.append(prob[i])\n",
        "\n",
        "    up = np.array(updated_prob)\n",
        "\n",
        "    return up"
      ],
      "metadata": {
        "id": "FHeHKuhldmYW"
      },
      "execution_count": null,
      "outputs": []
    },
    {
      "cell_type": "markdown",
      "source": [
        " # Function to iterate and update the probabilities present in probability vector "
      ],
      "metadata": {
        "id": "tTzKw16Y-Rfz"
      }
    },
    {
      "cell_type": "code",
      "source": [
        "def probability_vector_iterator(no_of_features, iteration, total_population):\n",
        "\n",
        "    prob = probability_vector(no_of_features)\n",
        "    population = initial_population(total_population, no_of_features)\n",
        "\n",
        "    for _ in range(iteration):\n",
        "        list_of_strings = list()\n",
        "        index = np.random.randint(0, total_population - 1)\n",
        "        list_of_strings.append(population[index])\n",
        "        list_of_strings.append(population[index + 1])\n",
        "        winner, loser = fitness_function(list_of_strings, models_list[5])\n",
        "        prob = probability_vector_updater(winner, loser, prob, no_of_features, total_population)\n",
        "\n",
        "    return prob\n",
        "\n",
        "probability_vector_iterator(30, 390, 200)"
      ],
      "metadata": {
        "colab": {
          "base_uri": "https://localhost:8080/"
        },
        "id": "jaOdU7Jlg1m8",
        "outputId": "f991b4dd-b929-4e6c-eb34-e59a8b100a3a"
      },
      "execution_count": null,
      "outputs": [
        {
          "output_type": "execute_result",
          "data": {
            "text/plain": [
              "array([0.725, 0.47 , 0.405, 0.71 , 0.51 , 0.495, 0.175, 0.57 , 0.475,\n",
              "       0.425, 0.495, 0.285, 0.415, 0.59 , 0.48 , 0.47 , 0.475, 0.9  ,\n",
              "       0.385, 0.58 , 0.585, 0.715, 0.56 , 0.58 , 0.235, 0.43 , 0.455,\n",
              "       0.19 , 0.545, 0.67 ])"
            ]
          },
          "metadata": {},
          "execution_count": 70
        }
      ]
    }
  ]
}