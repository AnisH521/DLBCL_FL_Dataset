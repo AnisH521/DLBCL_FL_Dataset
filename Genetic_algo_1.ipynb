{
  "nbformat": 4,
  "nbformat_minor": 0,
  "metadata": {
    "colab": {
      "provenance": []
    },
    "kernelspec": {
      "name": "python3",
      "display_name": "Python 3"
    },
    "language_info": {
      "name": "python"
    }
  },
  "cells": [
    {
      "cell_type": "markdown",
      "source": [
        "# Importing necessary modules"
      ],
      "metadata": {
        "id": "z3LpB7_7z_91"
      }
    },
    {
      "cell_type": "code",
      "execution_count": null,
      "metadata": {
        "id": "mBFHZwFRvPSS"
      },
      "outputs": [],
      "source": [
        "import numpy as np\n",
        "import random"
      ]
    },
    {
      "cell_type": "markdown",
      "source": [
        "# Creating chromosome of preffered length"
      ],
      "metadata": {
        "id": "0rCmh2yC0FRW"
      }
    },
    {
      "cell_type": "code",
      "source": [
        "def create_chromosome(length: int) -> np.ndarray:\n",
        "    return np.random.randint(low = 0, high = 2, size = length)"
      ],
      "metadata": {
        "id": "Kwtg1EY9v7Jg"
      },
      "execution_count": null,
      "outputs": []
    },
    {
      "cell_type": "markdown",
      "source": [
        "# fitness function"
      ],
      "metadata": {
        "id": "b797gfY62-SW"
      }
    },
    {
      "cell_type": "code",
      "source": [
        "def fitness(individual):\n",
        "    fit_score = 0\n",
        "    for gene in individual:\n",
        "        if individual[gene] == 1:\n",
        "            fit_score += 1\n",
        "    return fit_score"
      ],
      "metadata": {
        "id": "3xsKKwrG1VhD"
      },
      "execution_count": 1,
      "outputs": []
    },
    {
      "cell_type": "markdown",
      "source": [
        "# selection"
      ],
      "metadata": {
        "id": "6xGDIgh63BX2"
      }
    },
    {
      "cell_type": "code",
      "source": [
        "def selection(individual, population):\n",
        "    selected = []\n",
        "    for individual in population:\n",
        "        fit_score = fitness(individual)\n",
        "        if fit_score >= 30:\n",
        "            for i in range (2):\n",
        "                selected.append(individual)\n",
        "    return selected\n"
      ],
      "metadata": {
        "id": "SCH4azf41w-l"
      },
      "execution_count": null,
      "outputs": []
    },
    {
      "cell_type": "markdown",
      "source": [
        "# Function to make crossover between two chromosomes"
      ],
      "metadata": {
        "id": "PLfsAn1004UD"
      }
    },
    {
      "cell_type": "code",
      "source": [
        "def crossover(arr_1: np.ndarray, arr_2: np.ndarray,length: int, brk_pnt: int) -> np.ndarray:\n",
        "    arr_3 = np.array([length])\n",
        "    arr_4 = np.array([length])\n",
        "\n",
        "    arr_3 = np.append(arr_1[0 : brk_pnt], arr_2[brk_pnt : length])\n",
        "    arr_4 = np.append(arr_2[0 : brk_pnt], arr_1[brk_pnt : length])\n",
        "\n",
        "    return arr_3, arr_4"
      ],
      "metadata": {
        "id": "M7yBU9qU2fwp"
      },
      "execution_count": null,
      "outputs": []
    },
    {
      "cell_type": "markdown",
      "source": [
        "# Function to make mutation"
      ],
      "metadata": {
        "id": "ZWwGcDdk27Q2"
      }
    },
    {
      "cell_type": "code",
      "source": [
        "def mutation(arr: np.ndarray, prob: float) -> np.ndarray:\n",
        "    index = np.random.randint(len(arr))\n",
        "    arr[index] = arr[index] if random.random() > prob else abs(arr[index] - 1)\n",
        "\n",
        "    return arr"
      ],
      "metadata": {
        "id": "4nPd05VggSd1"
      },
      "execution_count": null,
      "outputs": []
    },
    {
      "cell_type": "markdown",
      "source": [
        "# Creating main function"
      ],
      "metadata": {
        "id": "m2KDmIaT5wdh"
      }
    },
    {
      "cell_type": "code",
      "source": [
        "def main() -> None:\n",
        "    arr1 = create_chromosome(100)\n",
        "    arr2 = create_chromosome(100)\n",
        "\n",
        "    arr3, arr4 = crossover(arr1, arr2, 100, 50)\n",
        "\n",
        "    arrf1 = mutation(arr3, 0.02)\n",
        "    arrf2 = mutation(arr4, 0.02)"
      ],
      "metadata": {
        "id": "q4Zvfn003GU7"
      },
      "execution_count": null,
      "outputs": []
    },
    {
      "cell_type": "markdown",
      "source": [
        "# Using special variable"
      ],
      "metadata": {
        "id": "tvAKSoq551CA"
      }
    },
    {
      "cell_type": "code",
      "source": [
        "if __name__ == '__main__':\n",
        "    main()"
      ],
      "metadata": {
        "id": "EuhCiT-P5T_6"
      },
      "execution_count": null,
      "outputs": []
    }
  ]
}