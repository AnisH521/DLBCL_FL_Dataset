{
  "nbformat": 4,
  "nbformat_minor": 0,
  "metadata": {
    "colab": {
      "provenance": []
    },
    "kernelspec": {
      "name": "python3",
      "display_name": "Python 3"
    },
    "language_info": {
      "name": "python"
    }
  },
  "cells": [
    {
      "cell_type": "markdown",
      "source": [
        "# Importing necessary modules"
      ],
      "metadata": {
        "id": "ECHmYneuizR-"
      }
    },
    {
      "cell_type": "code",
      "source": [
        "from typing import List, Dict"
      ],
      "metadata": {
        "id": "uh-gpTI4c0Yp"
      },
      "execution_count": null,
      "outputs": []
    },
    {
      "cell_type": "markdown",
      "source": [
        "# Defining graph, queue and visited"
      ],
      "metadata": {
        "id": "0PmsZgcSi3KG"
      }
    },
    {
      "cell_type": "code",
      "execution_count": null,
      "metadata": {
        "id": "OnrFjLVqYbmP"
      },
      "outputs": [],
      "source": [
        "graph = Dict[str, str]\n",
        "queue = List[str]\n",
        "visited = List[str]\n",
        "\n",
        "graph = {\n",
        "        'A': ['B', 'C'], \n",
        "        'B': ['D', 'E'],  \n",
        "        'D': ['H', 'I'],\n",
        "        'E': [],\n",
        "        'H': [], \n",
        "        'I': ['L', 'M'],\n",
        "        'C': ['F', 'G'],\n",
        "        'F': [],\n",
        "        'G': ['J', 'K'],\n",
        "        'J': [],\n",
        "        'K': []\n",
        "    }"
      ]
    },
    {
      "cell_type": "markdown",
      "source": [
        "# Function to implement bfs which returns nodes in sequence from start to goal"
      ],
      "metadata": {
        "id": "tFbGgsm9jCoQ"
      }
    },
    {
      "cell_type": "code",
      "source": [
        "def bfs(graph: Dict[str, str], start: str, goal: str) -> List[str]:\n",
        "    queue = []\n",
        "    visited = []\n",
        "\n",
        "    if start == goal:\n",
        "        visited.append(start)\n",
        "        return visited\n",
        "\n",
        "    queue.append(start)\n",
        "    visited.append(start)\n",
        "\n",
        "    while queue:\n",
        "        current_node = queue.pop(0)\n",
        "\n",
        "        for neighbour in graph[current_node]:\n",
        "            if neighbour == goal:\n",
        "                visited.append(neighbour)\n",
        "                return visited\n",
        "            if neighbour not in visited:\n",
        "                queue.append(neighbour)\n",
        "                visited.append(neighbour)\n",
        "\n",
        "    return visited"
      ],
      "metadata": {
        "id": "v8ET16CCboJ6"
      },
      "execution_count": null,
      "outputs": []
    },
    {
      "cell_type": "markdown",
      "source": [
        "# Defining main function "
      ],
      "metadata": {
        "id": "pvRV7UbsjhCQ"
      }
    },
    {
      "cell_type": "code",
      "source": [
        "def main() -> None:\n",
        "    Lst = bfs(graph, 'A', 'L')"
      ],
      "metadata": {
        "id": "TnkyFO2hkBOU"
      },
      "execution_count": null,
      "outputs": []
    },
    {
      "cell_type": "markdown",
      "source": [
        "# Using special variable"
      ],
      "metadata": {
        "id": "Mtjx1-2uj1vl"
      }
    },
    {
      "cell_type": "code",
      "source": [
        "if __name__ == '__main__':\n",
        "    main()"
      ],
      "metadata": {
        "colab": {
          "base_uri": "https://localhost:8080/"
        },
        "id": "BW9PGxcKj6n7",
        "outputId": "8de9132f-4a20-42d2-cd0f-4ced6001fe41"
      },
      "execution_count": null,
      "outputs": [
        {
          "output_type": "stream",
          "name": "stdout",
          "text": [
            "['A', 'B', 'C', 'D', 'E', 'F', 'G', 'H', 'I', 'J', 'K', 'L']\n"
          ]
        }
      ]
    }
  ]
}