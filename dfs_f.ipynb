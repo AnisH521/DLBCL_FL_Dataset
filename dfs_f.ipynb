{
  "nbformat": 4,
  "nbformat_minor": 0,
  "metadata": {
    "colab": {
      "provenance": []
    },
    "kernelspec": {
      "name": "python3",
      "display_name": "Python 3"
    },
    "language_info": {
      "name": "python"
    }
  },
  "cells": [
    {
      "cell_type": "markdown",
      "source": [
        "# Importing necessary modules"
      ],
      "metadata": {
        "id": "wIGDOpg8GVVv"
      }
    },
    {
      "cell_type": "code",
      "execution_count": null,
      "metadata": {
        "id": "RNxTd6ufCiE8"
      },
      "outputs": [],
      "source": [
        "from typing import Deque, List, Dict\n",
        "from collections import deque"
      ]
    },
    {
      "cell_type": "markdown",
      "source": [
        "# Defining graph, stack and visited"
      ],
      "metadata": {
        "id": "iIv31QX1GaOj"
      }
    },
    {
      "cell_type": "code",
      "source": [
        "graph = Dict[str, str]\n",
        "stack = Deque[str]\n",
        "visited = List[str]\n",
        "\n",
        "graph = {\n",
        "        'A': ['B', 'C'], \n",
        "        'B': ['D', 'E'],  \n",
        "        'D': ['H', 'I'],\n",
        "        'E': [],\n",
        "        'H': [], \n",
        "        'I': ['L', 'M'],\n",
        "        'C': ['F', 'G'],\n",
        "        'F': [],\n",
        "        'G': ['J', 'K'],\n",
        "        'J': [],\n",
        "        'K': []\n",
        "    }"
      ],
      "metadata": {
        "id": "CcVAnktvF8W6"
      },
      "execution_count": null,
      "outputs": []
    },
    {
      "cell_type": "markdown",
      "source": [
        "# Function which returns nodes visited by depth first search in sequence"
      ],
      "metadata": {
        "id": "ngq1E4r4Gjv5"
      }
    },
    {
      "cell_type": "code",
      "source": [
        "def dfs(graph: Dict[str, str], start: str, goal: str) -> List[str]:\n",
        "    stack = deque([start])\n",
        "    visited = []\n",
        "\n",
        "    if start == goal:\n",
        "        return visited\n",
        "\n",
        "    while stack:\n",
        "\n",
        "        current_node = stack.popleft()\n",
        "        visited.append(current_node)\n",
        "\n",
        "        for neighbour in graph[current_node]:\n",
        "            if neighbour == goal:\n",
        "                visited.append(neighbour)\n",
        "                return visited\n",
        "            if neighbour not in visited:\n",
        "                stack.appendleft(neighbour)\n",
        "        \n",
        "    return visited"
      ],
      "metadata": {
        "id": "M2GlSClINHhw"
      },
      "execution_count": null,
      "outputs": []
    },
    {
      "cell_type": "markdown",
      "source": [
        "# Defining main function"
      ],
      "metadata": {
        "id": "dFgaJUPRlJNc"
      }
    },
    {
      "cell_type": "code",
      "source": [
        "def main() -> None:\n",
        "    Lst = dfs(graph, 'A', 'K')"
      ],
      "metadata": {
        "id": "4M9qtvzvRAQt"
      },
      "execution_count": null,
      "outputs": []
    },
    {
      "cell_type": "markdown",
      "source": [
        "# Using special variable"
      ],
      "metadata": {
        "id": "yw1LxbMHlM2G"
      }
    },
    {
      "cell_type": "code",
      "source": [
        "if __name__ == '__main__':\n",
        "    main()"
      ],
      "metadata": {
        "colab": {
          "base_uri": "https://localhost:8080/"
        },
        "id": "tCKa6zLIk6YD",
        "outputId": "2acf4c8d-85c5-460a-8294-e1ad9835fee0"
      },
      "execution_count": null,
      "outputs": [
        {
          "output_type": "stream",
          "name": "stdout",
          "text": [
            "['A', 'C', 'G', 'K']\n"
          ]
        }
      ]
    }
  ]
}